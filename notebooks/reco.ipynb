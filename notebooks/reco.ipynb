{
 "cells": [
  {
   "cell_type": "code",
   "execution_count": 1,
   "metadata": {
    "collapsed": true
   },
   "outputs": [],
   "source": [
    "from os.path import expandvars\n",
    "\n",
    "import numpy as np\n",
    "from astropy import units as u\n",
    "\n",
    "import matplotlib.pyplot as plt\n",
    "%matplotlib inline\n",
    "\n",
    "from ctapipe.utils import linalg\n",
    "\n",
    "from ctapipe.io.hessio import hessio_event_source\n",
    "from ctapipe.instrument.camera import CameraGeometry\n",
    "\n",
    "from ctapipe.image.cleaning import tailcuts_clean\n",
    "from ctapipe.image.hillas import hillas_parameters_4 as hillas_parameters\n",
    "\n",
    "\n",
    "# does the calibration from ADC to pe\n",
    "from ctapipe.calib import CameraCalibrator\n",
    "calib = CameraCalibrator(None, None)\n",
    "\n",
    "\n",
    "# does the shower reconstruction\n",
    "from ctapipe.reco.HillasReconstructor import HillasReconstructor\n",
    "reco = HillasReconstructor()\n",
    "\n",
    "\n",
    "# missing in event.inst so keeping track of it separately\n",
    "tel_phi = {}\n",
    "tel_theta = {}\n",
    "tel_orientation = (tel_phi, tel_theta)\n",
    "\n",
    "\n",
    "# load a file and create an event generator\n",
    "filename = expandvars(\"$HOME/Data/cta/ASTRI9/gamma/run1001.simtel.gz\")\n",
    "source = hessio_event_source(filename, allowed_tels=range(10), max_events=500)"
   ]
  },
  {
   "cell_type": "code",
   "execution_count": 2,
   "metadata": {
    "collapsed": false
   },
   "outputs": [
    {
     "name": "stderr",
     "output_type": "stream",
     "text": [
      "WARNING:ctapipe.core.provenance:No activity has been started... starting a default one\n",
      "/home/ichanmich/software/anaconda3/lib/python3.6/site-packages/ctapipe-5-py3.6.egg/ctapipe/image/hillas.py:691: RuntimeWarning: invalid value encountered in sqrt\n",
      "  width = np.sqrt((vy2 + vx2 - z) / 2.0)\n",
      "WARNING: AstropyDeprecationWarning: will be replaced with real coord transform [ctapipe.reco.HillasReconstructor]\n",
      "WARNING:astropy:AstropyDeprecationWarning: will be replaced with real coord transform\n",
      "/home/ichanmich/software/anaconda3/lib/python3.6/site-packages/astropy/units/quantity.py:951: RuntimeWarning: divide by zero encountered in true_divide\n",
      "  return super(Quantity, self).__truediv__(other)\n",
      "/home/ichanmich/software/anaconda3/lib/python3.6/site-packages/ctapipe-5-py3.6.egg/ctapipe/utils/linalg.py:71: RuntimeWarning: invalid value encountered in true_divide\n",
      "  return vec / length(vec)\n"
     ]
    }
   ],
   "source": [
    "off_angles = []\n",
    "\n",
    "# loop over all loaded events\n",
    "for event in source:\n",
    "    \n",
    "    # CameraCalibrator calibrates all telescopes in the event at once\n",
    "    calib.calibrate(event)\n",
    "\n",
    "    # dictionary for the hillas parameters of this event\n",
    "    hillas_dict = {}\n",
    "    \n",
    "    # the direction the parent particle is coming from \n",
    "    source_orig = linalg.set_phi_theta(event.mc.az,\n",
    "                                       (np.pi*u.rad/2-event.mc.alt))\n",
    "\n",
    "    # loop over all telescopes in this event\n",
    "    for tel_id in event.dl0.tels_with_data:\n",
    "\n",
    "        cam_geom = CameraGeometry.guess(event.inst.pixel_pos[tel_id][0],\n",
    "                                        event.inst.pixel_pos[tel_id][1],\n",
    "                                        event.inst.optical_foclen[tel_id])\n",
    "        if tel_id not in tel_phi:\n",
    "            tel_phi[tel_id] = event.mc.tel[tel_id].azimuth_raw * u.rad\n",
    "            tel_theta[tel_id] = (np.pi/2-event.mc.tel[tel_id].altitude_raw)*u.rad\n",
    "\n",
    "        \n",
    "        # some cameras have more than one gain channel,\n",
    "        # need to pick one with the [0] at the end\n",
    "        pmt_signal = event.dl1.tel[tel_id].image[0]\n",
    "\n",
    "\n",
    "        # tailcut cleaning\n",
    "        \n",
    "        # make a copy first\n",
    "        cleaned_image = pmt_signal[:]\n",
    "\n",
    "        # create a mask of pixels we want to keep\n",
    "        mask = tailcuts_clean(cam_geom, pmt_signal,\n",
    "                          picture_thresh=10,\n",
    "                          boundary_thresh=5)\n",
    "\n",
    "        # set all rejected pixels to zero\n",
    "        cleaned_image[~mask] = 0\n",
    "\n",
    "\n",
    "        # hillas parametrisation\n",
    "        try:\n",
    "            hillas_dict[tel_id] = hillas_parameters(cam_geom.pix_x,\n",
    "                                                    cam_geom.pix_y,\n",
    "                                                    cleaned_image)\n",
    "        except:\n",
    "            pass\n",
    "    \n",
    "    # reconstruction needs at least two telescopes\n",
    "    if len(hillas_dict) < 2:\n",
    "        continue\n",
    "    \n",
    "    # telescope loop done, now do the core fit\n",
    "    reco.get_great_circles(hillas_dict,\n",
    "                           event.inst,\n",
    "                           *tel_orientation)\n",
    "\n",
    "    # position fit with error estimator\n",
    "    # pos_fit, err_est_pos = reco.fit_core_crosses()\n",
    "\n",
    "    # fit the gamma's direction of origin\n",
    "    fit_dir, _ = reco.fit_origin_crosses()\n",
    "\n",
    "    # sometimes fit fails for some reason\n",
    "    if np.isnan(fit_dir).any(): continue\n",
    "    \n",
    "    # get angular offset between reconstructed direction and MC generated direction\n",
    "    off_angle = linalg.angle(fit_dir, source_orig)\n",
    "\n",
    "    # ... and put them in a list\n",
    "    off_angles.append(off_angle.to(u.deg).value)"
   ]
  },
  {
   "cell_type": "markdown",
   "metadata": {},
   "source": [
    "# plot the angular errors"
   ]
  },
  {
   "cell_type": "code",
   "execution_count": 4,
   "metadata": {
    "collapsed": false
   },
   "outputs": [
    {
     "data": {
      "image/png": "[encoded data removed]",
      "text/plain": [
       "<matplotlib.figure.Figure at 0x7f87c9755940>"
      ]
     },
     "metadata": {},
     "output_type": "display_data"
    }
   ],
   "source": [
    "plt.figure(figsize=(10,8))\n",
    "_ = plt.hist(off_angles, bins=np.linspace(0,1,10))"
   ]
  }
 ],
 "metadata": {
  "kernelspec": {
   "display_name": "Python 3",
   "language": "python",
   "name": "python3"
  },
  "language_info": {
   "codemirror_mode": {
    "name": "ipython",
    "version": 3
   },
   "file_extension": ".py",
   "mimetype": "text/x-python",
   "name": "python",
   "nbconvert_exporter": "python",
   "pygments_lexer": "ipython3",
   "version": "3.6.0"
  }
 },
 "nbformat": 4,
 "nbformat_minor": 2
}
