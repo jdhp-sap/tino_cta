{
 "cells": [
  {
   "cell_type": "markdown",
   "metadata": {
    "deletable": true,
    "editable": true
   },
   "source": [
    "# Train Classifier\n",
    "\n",
    "This notebook demonstrates how to train the `ctapipe` included classifier on a given set of features. These features were selected and written out by the `write_feature_table.py` script.  \n",
    "Consecutively, the training is validated on a new set of events in an event-loop as you might use it during the normal reconstruction run."
   ]
  },
  {
   "cell_type": "code",
   "execution_count": 1,
   "metadata": {
    "collapsed": true,
    "deletable": true,
    "editable": true
   },
   "outputs": [],
   "source": [
    "from ipywidgets import interact, widgets\n",
    "from IPython.display import display\n",
    "\n",
    "from os.path import expandvars\n",
    "\n",
    "from collections import namedtuple\n",
    "from glob import glob\n",
    "\n",
    "# PyTables\n",
    "import tables as tb\n",
    "\n",
    "from ctapipe.io.hessio import hessio_event_source\n",
    "\n",
    "from ctapipe.utils import linalg\n",
    "from ctapipe.utils.CutFlow import CutFlow\n",
    "\n",
    "from ctapipe.reco.event_classifier import EventClassifier\n",
    "\n",
    "from ctapipe.reco.HillasReconstructor import \\\n",
    "    HillasReconstructor, TooFewTelescopes\n",
    "\n",
    "from tino_cta.prepare_event import EventPreparer\n",
    "from tino_cta.ImageCleaning import ImageCleaner\n",
    "\n",
    "from helper_functions import *\n",
    "\n",
    "%matplotlib inline\n",
    "\n",
    "# your favourite units here\n",
    "energy_unit = u.TeV\n",
    "angle_unit = u.deg\n",
    "dist_unit = u.m"
   ]
  },
  {
   "cell_type": "markdown",
   "metadata": {
    "deletable": true,
    "editable": true
   },
   "source": [
    "## Training\n",
    "The classifier can train a separate model for the various camera types. The prediction of the event-class then takes these different camera types into account.  \n",
    "Define here a list of `cam_id`s the classifier is supposed to build a model for."
   ]
  },
  {
   "cell_type": "code",
   "execution_count": 2,
   "metadata": {
    "collapsed": true,
    "deletable": true,
    "editable": true
   },
   "outputs": [],
   "source": [
    "# for which cam_id to generate a models\n",
    "cam_id_list = [\n",
    "        # 'GATE',\n",
    "        # 'HESSII',\n",
    "        'NectarCam',\n",
    "        'LSTCam',\n",
    "        'DigiCam',\n",
    "        # 'SST-1m',\n",
    "        # 'FlashCam',\n",
    "        # 'ASTRICam',\n",
    "        # 'SCTCam',\n",
    "        ]\n",
    "\n",
    "# the list of features to train the model on\n",
    "ClassifierFeatures = namedtuple(\n",
    "    \"ClassifierFeatures\", (\n",
    "        \"impact_dist\",\n",
    "        \"sum_signal_evt\",\n",
    "        \"max_signal_cam\",\n",
    "        \"sum_signal_cam\",\n",
    "        \"N_LST\",\n",
    "        \"N_MST\",\n",
    "        \"N_SST\",\n",
    "        \"width\",\n",
    "        \"length\",\n",
    "        \"skewness\",\n",
    "        \"kurtosis\",\n",
    "        \"h_max\",\n",
    "        \"err_est_pos\",\n",
    "        \"err_est_dir\"\n",
    "    ))"
   ]
  },
  {
   "cell_type": "markdown",
   "metadata": {
    "deletable": true,
    "editable": true
   },
   "source": [
    "### Setting up the feature and target dictionaries\n",
    "Read in two files -- one for gammas, one for protons -- with all the feature tables that was previously written by another script. The features are collected in a dictionary with the `cam_id`s as keys. The values are the lists of \"feature-lists\". Every \"feature-list\" corresponds to one camera image and collects camera-based (e.g. the Hillas parameters) and event-based (e.g. reconstructed h_max) iniformation.\n",
    "The same for the energies and classes: For every dictionary key (i.e. the camera IDs), one list for the Monte Carlo energies and one for the class of the generated parent particle is collected, corresponding to the camera-events in the `features` dictionary.  \n",
    "  \n",
    "Naturally, the keys in `features`, `energies` and `classes` ought to be the same..."
   ]
  },
  {
   "cell_type": "code",
   "execution_count": 3,
   "metadata": {
    "collapsed": false,
    "deletable": true,
    "editable": true
   },
   "outputs": [
    {
     "data": {
      "application/vnd.jupyter.widget-view+json": {
       "model_id": "cff8d69aa3e14b0c9f9ce22d3bc97ee0"
      }
     },
     "metadata": {},
     "output_type": "display_data"
    },
    {
     "data": {
      "application/vnd.jupyter.widget-view+json": {
       "model_id": "616bd6f0b1e545ad837bb822355aa6c0"
      }
     },
     "metadata": {},
     "output_type": "display_data"
    }
   ],
   "source": [
    "features_filename_gammas = widgets.Textarea(\n",
    "    value=\"../data/features_wave_gamma.h5\",\n",
    "    placeholder='Name of the gamma file to read',\n",
    "    description='gamma file name',\n",
    "    disabled=False\n",
    ")\n",
    "features_filename_protons = widgets.Textarea(\n",
    "    value=\"../data/features_wave_proton.h5\",\n",
    "    placeholder='Name of the proton file to read',\n",
    "    description='proton file name',\n",
    "    disabled=False\n",
    ")\n",
    "\n",
    "display(features_filename_gammas, features_filename_protons)"
   ]
  },
  {
   "cell_type": "code",
   "execution_count": 4,
   "metadata": {
    "collapsed": false,
    "deletable": true,
    "editable": true,
    "scrolled": true
   },
   "outputs": [],
   "source": [
    "features_file_gammas = tb.open_file(features_filename_gammas.value, mode=\"r\")\n",
    "features_file_proton = tb.open_file(features_filename_protons.value, mode=\"r\")\n",
    "\n",
    "\n",
    "features_file = features_file_gammas\n",
    "features = {\"LSTCam\": [[row[name] for name in ClassifierFeatures._fields] for row in\n",
    "                       features_file.root.feature_events_lst],\n",
    "            \"DigiCam\": [[row[name] for name in ClassifierFeatures._fields] for row in\n",
    "                        features_file.root.feature_events_dig],\n",
    "            \"NectarCam\": [[row[name] for name in ClassifierFeatures._fields] for row in\n",
    "                          features_file.root.feature_events_nec]}\n",
    "\n",
    "energies = {\"LSTCam\": [row[\"MC_Energy\"] for row in\n",
    "                       features_file.root.feature_events_lst],\n",
    "            \"DigiCam\": [row[\"MC_Energy\"] for row in\n",
    "                        features_file.root.feature_events_dig],\n",
    "            \"NectarCam\": [row[\"MC_Energy\"] for row in\n",
    "                          features_file.root.feature_events_nec]}\n",
    "\n",
    "classes = {}\n",
    "for cam_id, feats in features.items():\n",
    "    classes[cam_id] = [\"g\"] * len(feats)\n",
    "\n",
    "#\n",
    "# now protons\n",
    "features_file = features_file_proton\n",
    "features[\"LSTCam\"] += [[row[name] for name in ClassifierFeatures._fields] for row in\n",
    "                       features_file.root.feature_events_lst]\n",
    "features[\"DigiCam\"] += [[row[name] for name in ClassifierFeatures._fields] for row in\n",
    "                        features_file.root.feature_events_dig]\n",
    "features[\"NectarCam\"] += [[row[name] for name in ClassifierFeatures._fields] for row in\n",
    "                          features_file.root.feature_events_nec]\n",
    "energies[\"LSTCam\"] += [row[\"MC_Energy\"] for row in\n",
    "                       features_file.root.feature_events_lst]\n",
    "energies[\"DigiCam\"] += [row[\"MC_Energy\"] for row in\n",
    "                        features_file.root.feature_events_dig]\n",
    "energies[\"NectarCam\"] += [row[\"MC_Energy\"] for row in\n",
    "                          features_file.root.feature_events_nec]\n",
    "for cam_id, feats in features.items():\n",
    "    classes[cam_id] += [\"p\"] * (len(feats) - len(classes[cam_id]))\n",
    "    energies[cam_id] = np.array(energies[cam_id]) * energy_unit\n"
   ]
  },
  {
   "cell_type": "markdown",
   "metadata": {
    "deletable": true,
    "editable": true
   },
   "source": [
    "This is how one of the `features_file` and the included tables look like:"
   ]
  },
  {
   "cell_type": "code",
   "execution_count": 5,
   "metadata": {
    "collapsed": false,
    "deletable": true,
    "editable": true
   },
   "outputs": [
    {
     "name": "stdout",
     "output_type": "stream",
     "text": [
      "/ (RootGroup) ''\n",
      "/feature_events_dig (Table(32028,)) ''\n",
      "/feature_events_lst (Table(13968,)) ''\n",
      "/feature_events_nec (Table(67101,)) ''\n"
     ]
    },
    {
     "data": {
      "text/html": [
       "<div>\n",
       "<style>\n",
       "    .dataframe thead tr:only-child th {\n",
       "        text-align: right;\n",
       "    }\n",
       "\n",
       "    .dataframe thead th {\n",
       "        text-align: left;\n",
       "    }\n",
       "\n",
       "    .dataframe tbody tr th {\n",
       "        vertical-align: top;\n",
       "    }\n",
       "</style>\n",
       "<table border=\"1\" class=\"dataframe\">\n",
       "  <thead>\n",
       "    <tr style=\"text-align: right;\">\n",
       "      <th></th>\n",
       "      <th>impact_dist</th>\n",
       "      <th>sum_signal_evt</th>\n",
       "      <th>max_signal_cam</th>\n",
       "      <th>sum_signal_cam</th>\n",
       "      <th>N_LST</th>\n",
       "      <th>N_MST</th>\n",
       "      <th>N_SST</th>\n",
       "      <th>width</th>\n",
       "      <th>length</th>\n",
       "      <th>skewness</th>\n",
       "      <th>kurtosis</th>\n",
       "      <th>h_max</th>\n",
       "      <th>err_est_pos</th>\n",
       "      <th>err_est_dir</th>\n",
       "      <th>MC_Energy</th>\n",
       "    </tr>\n",
       "  </thead>\n",
       "  <tbody>\n",
       "    <tr>\n",
       "      <th>0</th>\n",
       "      <td>271.048004</td>\n",
       "      <td>2269.115967</td>\n",
       "      <td>20.442192</td>\n",
       "      <td>141.239166</td>\n",
       "      <td>4</td>\n",
       "      <td>9</td>\n",
       "      <td>0</td>\n",
       "      <td>0.044519</td>\n",
       "      <td>0.113225</td>\n",
       "      <td>-0.461832</td>\n",
       "      <td>2.034387</td>\n",
       "      <td>8671.250000</td>\n",
       "      <td>7.115962e-04</td>\n",
       "      <td>3.497656</td>\n",
       "      <td>1.099954</td>\n",
       "    </tr>\n",
       "    <tr>\n",
       "      <th>1</th>\n",
       "      <td>233.583023</td>\n",
       "      <td>2269.115967</td>\n",
       "      <td>63.226009</td>\n",
       "      <td>416.905426</td>\n",
       "      <td>4</td>\n",
       "      <td>9</td>\n",
       "      <td>0</td>\n",
       "      <td>0.039006</td>\n",
       "      <td>0.056876</td>\n",
       "      <td>0.050759</td>\n",
       "      <td>2.214024</td>\n",
       "      <td>8671.250000</td>\n",
       "      <td>7.115962e-04</td>\n",
       "      <td>3.497656</td>\n",
       "      <td>1.099954</td>\n",
       "    </tr>\n",
       "    <tr>\n",
       "      <th>2</th>\n",
       "      <td>151.979965</td>\n",
       "      <td>2269.115967</td>\n",
       "      <td>31.813305</td>\n",
       "      <td>305.418945</td>\n",
       "      <td>4</td>\n",
       "      <td>9</td>\n",
       "      <td>0</td>\n",
       "      <td>0.069087</td>\n",
       "      <td>0.160965</td>\n",
       "      <td>-0.432573</td>\n",
       "      <td>1.461751</td>\n",
       "      <td>8671.250000</td>\n",
       "      <td>7.115962e-04</td>\n",
       "      <td>3.497656</td>\n",
       "      <td>1.099954</td>\n",
       "    </tr>\n",
       "    <tr>\n",
       "      <th>3</th>\n",
       "      <td>341.291870</td>\n",
       "      <td>2269.115967</td>\n",
       "      <td>37.370247</td>\n",
       "      <td>310.697845</td>\n",
       "      <td>4</td>\n",
       "      <td>9</td>\n",
       "      <td>0</td>\n",
       "      <td>0.035467</td>\n",
       "      <td>0.065003</td>\n",
       "      <td>0.434911</td>\n",
       "      <td>2.877165</td>\n",
       "      <td>8671.250000</td>\n",
       "      <td>7.115962e-04</td>\n",
       "      <td>3.497656</td>\n",
       "      <td>1.099954</td>\n",
       "    </tr>\n",
       "    <tr>\n",
       "      <th>4</th>\n",
       "      <td>275.589905</td>\n",
       "      <td>162.427261</td>\n",
       "      <td>3.431991</td>\n",
       "      <td>24.786629</td>\n",
       "      <td>1</td>\n",
       "      <td>1</td>\n",
       "      <td>0</td>\n",
       "      <td>0.032987</td>\n",
       "      <td>0.106073</td>\n",
       "      <td>-0.171438</td>\n",
       "      <td>1.292322</td>\n",
       "      <td>2253.481934</td>\n",
       "      <td>6.918594e-14</td>\n",
       "      <td>0.000000</td>\n",
       "      <td>0.445800</td>\n",
       "    </tr>\n",
       "    <tr>\n",
       "      <th>5</th>\n",
       "      <td>588.438538</td>\n",
       "      <td>1177.621460</td>\n",
       "      <td>5.379014</td>\n",
       "      <td>15.966051</td>\n",
       "      <td>1</td>\n",
       "      <td>2</td>\n",
       "      <td>3</td>\n",
       "      <td>0.020065</td>\n",
       "      <td>0.025233</td>\n",
       "      <td>-0.020025</td>\n",
       "      <td>2.821117</td>\n",
       "      <td>8971.023438</td>\n",
       "      <td>4.095885e+00</td>\n",
       "      <td>7.981086</td>\n",
       "      <td>3.609693</td>\n",
       "    </tr>\n",
       "    <tr>\n",
       "      <th>6</th>\n",
       "      <td>449.588562</td>\n",
       "      <td>1394.017944</td>\n",
       "      <td>5.362974</td>\n",
       "      <td>22.998644</td>\n",
       "      <td>2</td>\n",
       "      <td>5</td>\n",
       "      <td>3</td>\n",
       "      <td>0.028037</td>\n",
       "      <td>0.033372</td>\n",
       "      <td>0.246999</td>\n",
       "      <td>1.833753</td>\n",
       "      <td>6364.849121</td>\n",
       "      <td>7.458680e+00</td>\n",
       "      <td>5.798989</td>\n",
       "      <td>3.609693</td>\n",
       "    </tr>\n",
       "    <tr>\n",
       "      <th>7</th>\n",
       "      <td>249.596832</td>\n",
       "      <td>1394.017944</td>\n",
       "      <td>8.675899</td>\n",
       "      <td>43.702473</td>\n",
       "      <td>2</td>\n",
       "      <td>5</td>\n",
       "      <td>3</td>\n",
       "      <td>0.048127</td>\n",
       "      <td>0.084054</td>\n",
       "      <td>0.737536</td>\n",
       "      <td>2.365488</td>\n",
       "      <td>6364.849121</td>\n",
       "      <td>7.458680e+00</td>\n",
       "      <td>5.798989</td>\n",
       "      <td>3.609693</td>\n",
       "    </tr>\n",
       "    <tr>\n",
       "      <th>8</th>\n",
       "      <td>122.388802</td>\n",
       "      <td>575.517761</td>\n",
       "      <td>26.788200</td>\n",
       "      <td>133.333969</td>\n",
       "      <td>2</td>\n",
       "      <td>2</td>\n",
       "      <td>0</td>\n",
       "      <td>0.034074</td>\n",
       "      <td>0.057203</td>\n",
       "      <td>0.395282</td>\n",
       "      <td>2.543495</td>\n",
       "      <td>-4337.306641</td>\n",
       "      <td>1.012134e+01</td>\n",
       "      <td>2.135559</td>\n",
       "      <td>0.425463</td>\n",
       "    </tr>\n",
       "    <tr>\n",
       "      <th>9</th>\n",
       "      <td>153.474045</td>\n",
       "      <td>575.517761</td>\n",
       "      <td>66.897995</td>\n",
       "      <td>376.071106</td>\n",
       "      <td>2</td>\n",
       "      <td>2</td>\n",
       "      <td>0</td>\n",
       "      <td>0.055590</td>\n",
       "      <td>0.059041</td>\n",
       "      <td>0.730525</td>\n",
       "      <td>2.526224</td>\n",
       "      <td>-4337.306641</td>\n",
       "      <td>1.012134e+01</td>\n",
       "      <td>2.135559</td>\n",
       "      <td>0.425463</td>\n",
       "    </tr>\n",
       "  </tbody>\n",
       "</table>\n",
       "</div>"
      ],
      "text/plain": [
       "   impact_dist  sum_signal_evt  max_signal_cam  sum_signal_cam  N_LST  N_MST  \\\n",
       "0   271.048004     2269.115967       20.442192      141.239166      4      9   \n",
       "1   233.583023     2269.115967       63.226009      416.905426      4      9   \n",
       "2   151.979965     2269.115967       31.813305      305.418945      4      9   \n",
       "3   341.291870     2269.115967       37.370247      310.697845      4      9   \n",
       "4   275.589905      162.427261        3.431991       24.786629      1      1   \n",
       "5   588.438538     1177.621460        5.379014       15.966051      1      2   \n",
       "6   449.588562     1394.017944        5.362974       22.998644      2      5   \n",
       "7   249.596832     1394.017944        8.675899       43.702473      2      5   \n",
       "8   122.388802      575.517761       26.788200      133.333969      2      2   \n",
       "9   153.474045      575.517761       66.897995      376.071106      2      2   \n",
       "\n",
       "   N_SST     width    length  skewness  kurtosis        h_max   err_est_pos  \\\n",
       "0      0  0.044519  0.113225 -0.461832  2.034387  8671.250000  7.115962e-04   \n",
       "1      0  0.039006  0.056876  0.050759  2.214024  8671.250000  7.115962e-04   \n",
       "2      0  0.069087  0.160965 -0.432573  1.461751  8671.250000  7.115962e-04   \n",
       "3      0  0.035467  0.065003  0.434911  2.877165  8671.250000  7.115962e-04   \n",
       "4      0  0.032987  0.106073 -0.171438  1.292322  2253.481934  6.918594e-14   \n",
       "5      3  0.020065  0.025233 -0.020025  2.821117  8971.023438  4.095885e+00   \n",
       "6      3  0.028037  0.033372  0.246999  1.833753  6364.849121  7.458680e+00   \n",
       "7      3  0.048127  0.084054  0.737536  2.365488  6364.849121  7.458680e+00   \n",
       "8      0  0.034074  0.057203  0.395282  2.543495 -4337.306641  1.012134e+01   \n",
       "9      0  0.055590  0.059041  0.730525  2.526224 -4337.306641  1.012134e+01   \n",
       "\n",
       "   err_est_dir  MC_Energy  \n",
       "0     3.497656   1.099954  \n",
       "1     3.497656   1.099954  \n",
       "2     3.497656   1.099954  \n",
       "3     3.497656   1.099954  \n",
       "4     0.000000   0.445800  \n",
       "5     7.981086   3.609693  \n",
       "6     5.798989   3.609693  \n",
       "7     5.798989   3.609693  \n",
       "8     2.135559   0.425463  \n",
       "9     2.135559   0.425463  "
      ]
     },
     "execution_count": 5,
     "metadata": {},
     "output_type": "execute_result"
    }
   ],
   "source": [
    "import pandas as pd\n",
    "\n",
    "# print the list of tables in the file\n",
    "for table in features_file_proton:\n",
    "    print(table)\n",
    "\n",
    "# print the content of one of the tables\n",
    "pd.read_hdf(features_filename_protons.value, \"feature_events_lst\",\n",
    "            mode=\"r\")[:10]"
   ]
  },
  {
   "cell_type": "markdown",
   "metadata": {
    "deletable": true,
    "editable": true
   },
   "source": [
    "### event weighting\n",
    "For the training of the classifier, it is desirable to have the same number of events in each class to not introduce any bias in the training. Instead of throwing out events, produce weights so that all events in each [class × cam_id] bracket add up to 1."
   ]
  },
  {
   "cell_type": "code",
   "execution_count": 6,
   "metadata": {
    "collapsed": false,
    "deletable": true,
    "editable": true
   },
   "outputs": [
    {
     "data": {
      "application/vnd.jupyter.widget-view+json": {
       "model_id": "4c4757ab950a4e8aa53964aced15dfda"
      }
     },
     "metadata": {},
     "output_type": "display_data"
    }
   ],
   "source": [
    "telescope_weights = {}\n",
    "def make_weights(unify=True):\n",
    "    for cam_id, cl in classes.items():\n",
    "        print(cam_id)\n",
    "        cl = np.array(cl)\n",
    "        telescope_weights[cam_id] = np.ones_like(cl, dtype=np.float)\n",
    "        if unify:\n",
    "            telescope_weights[cam_id][cl == 'g'] = \\\n",
    "                1 / np.count_nonzero(cl == 'g')\n",
    "            telescope_weights[cam_id][cl == 'p'] = \\\n",
    "                1 / np.count_nonzero(cl == 'p')\n",
    "\n",
    "        print(\"number of g:\", np.count_nonzero(cl == 'g'))\n",
    "        print(\"number of p:\", np.count_nonzero(cl == 'p'))\n",
    "        print()\n",
    "_ = interact(make_weights, unify=True)"
   ]
  },
  {
   "cell_type": "markdown",
   "metadata": {
    "deletable": true,
    "editable": true
   },
   "source": [
    "### Defining and training the model\n",
    "The dictionary `clf_kwargs` sets up the behaviour of the `EventClassifier`. An optional \"classifier\" argument could be given to change the type of model to be created. The argument needs to be a class that has to comply to the scikit-learn typical interface.\n",
    "If not given, the default is \"RandomForestClassifier\".  \n",
    "The \"cam_id_list\" argument contains the list of names for which to generate a model.  \n",
    "All other arguments are handed over to the class given in \"classifier\"."
   ]
  },
  {
   "cell_type": "code",
   "execution_count": 7,
   "metadata": {
    "collapsed": false,
    "deletable": true,
    "editable": true
   },
   "outputs": [],
   "source": [
    "# use default random forest classifier\n",
    "clf_kwargs = {'n_estimators': 40, 'max_depth': None,\n",
    "              'min_samples_split': 2, 'random_state': 0,\n",
    "              'cam_id_list': cam_id_list}"
   ]
  },
  {
   "cell_type": "markdown",
   "metadata": {
    "deletable": true,
    "editable": true
   },
   "source": [
    "construct the classifier object and train it on the given `features` and `classes`"
   ]
  },
  {
   "cell_type": "code",
   "execution_count": 8,
   "metadata": {
    "collapsed": false,
    "deletable": true,
    "editable": true
   },
   "outputs": [],
   "source": [
    "classifier = EventClassifier(**clf_kwargs)\n",
    "_ = classifier.fit(features, classes, telescope_weights)"
   ]
  },
  {
   "cell_type": "markdown",
   "metadata": {
    "deletable": true,
    "editable": true
   },
   "source": [
    "The importance of the given features to the classification can be shown like this:"
   ]
  },
  {
   "cell_type": "code",
   "execution_count": 9,
   "metadata": {
    "collapsed": false,
    "deletable": true,
    "editable": true,
    "scrolled": false
   },
   "outputs": [
    {
     "data": {
      "image/png": "[encoded data removed]",
      "text/plain": [
       "<matplotlib.figure.Figure at 0x7f0551574cf8>"
      ]
     },
     "metadata": {},
     "output_type": "display_data"
    }
   ],
   "source": [
    "fig = classifier.show_importances(ClassifierFeatures._fields)\n",
    "fig.set_size_inches(15, 12)\n",
    "# optimise the tick-labels a bit:\n",
    "for ax in fig.axes:\n",
    "    plt.sca(ax)\n",
    "    plt.xticks(rotation=45)\n",
    "    for label in ax.get_xmajorticklabels():\n",
    "        label.set_horizontalalignment(\"right\")\n",
    "plt.subplots_adjust(top=0.9, bottom=0.135, left=0.034, right=0.98,\n",
    "                    hspace=0.478, wspace=0.08)\n",
    "\n",
    "plt.show()"
   ]
  },
  {
   "cell_type": "markdown",
   "metadata": {
    "deletable": true,
    "editable": true
   },
   "source": [
    "### Saving the model\n",
    "To save the models to disc, provide a filename as a string which contains \"{cam_id}\". This token gets replaced by the previously given camera names, so the models are saved separately for the different camera types."
   ]
  },
  {
   "cell_type": "code",
   "execution_count": 10,
   "metadata": {
    "collapsed": false,
    "deletable": true,
    "editable": true
   },
   "outputs": [
    {
     "data": {
      "text/plain": [
       "['../models/classifier_LSTCam.pckl',\n",
       " '../models/classifier_DigiCam.pckl',\n",
       " '../models/classifier_NectarCam.pckl']"
      ]
     },
     "execution_count": 10,
     "metadata": {},
     "output_type": "execute_result"
    }
   ],
   "source": [
    "classifier.save(\"../models/classifier_{cam_id}.pckl\")\n",
    "glob(\"../models/classifier_*\")"
   ]
  },
  {
   "cell_type": "markdown",
   "metadata": {
    "deletable": true,
    "editable": true
   },
   "source": [
    "### Reading the model\n",
    "Reading the model back from disc works analogous to the saving:\n",
    "Give the `EventClassifier.load` function a string with a \"{cam_id}\" token and a `cam_id_list` and it will try to load the corresponding files.  \n",
    "`EventClassifier.load` is a class method and does not need an instance."
   ]
  },
  {
   "cell_type": "code",
   "execution_count": 11,
   "metadata": {
    "collapsed": false,
    "deletable": true,
    "editable": true
   },
   "outputs": [],
   "source": [
    "classifier = EventClassifier.load(\"../models/classifier_{cam_id}.pckl\",\n",
    "                                  cam_id_list)"
   ]
  },
  {
   "cell_type": "markdown",
   "metadata": {
    "deletable": true,
    "editable": true
   },
   "source": [
    "## Cross validation\n",
    "To check the performance of the trained models, load a new set of gamma and proton events, process them as usual (cf. `EventPreparer`), predict their classes and in the end compare prediction with the true class.\n",
    "\n",
    "### Setup for reconstruction\n",
    "Here, some base classes are constructed that perform the standard image cleaning, shower reconstructien, event selection etc."
   ]
  },
  {
   "cell_type": "code",
   "execution_count": 12,
   "metadata": {
    "collapsed": true,
    "deletable": true,
    "editable": true
   },
   "outputs": [],
   "source": [
    "# keeping track of events and where they were rejected\n",
    "Eventcutflow = CutFlow(\"EventCutFlow\")\n",
    "Imagecutflow = CutFlow(\"ImageCutFlow\")\n",
    "\n",
    "# takes care of image cleaning\n",
    "cleaner = ImageCleaner(mode=\"wave\", cutflow=Imagecutflow,\n",
    "                       wavelet_options=None,\n",
    "                       skip_edge_events=True, island_cleaning=True)\n",
    "\n",
    "# the class that does the shower reconstruction\n",
    "shower_reco = HillasReconstructor()\n",
    "\n",
    "preper = EventPreparer(\n",
    "    cleaner=cleaner, shower_reco=shower_reco,\n",
    "    event_cutflow=Eventcutflow, image_cutflow=Imagecutflow,\n",
    "    # event/image cuts:\n",
    "    allowed_cam_ids=[],  # [] or None means: all\n",
    "    min_ntel=2,\n",
    "    min_charge=25, min_pixel=3)\n",
    "\n",
    "Imagecutflow.add_cut(\"features nan\", lambda x: np.isnan(x).any())"
   ]
  },
  {
   "cell_type": "code",
   "execution_count": 17,
   "metadata": {
    "collapsed": false,
    "deletable": true,
    "editable": true
   },
   "outputs": [
    {
     "data": {
      "application/vnd.jupyter.widget-view+json": {
       "model_id": "b31c700a8da74ebca53970a7a4df83da"
      }
     },
     "metadata": {},
     "output_type": "display_data"
    }
   ],
   "source": [
    "import pyhessio\n",
    "import datetime\n",
    "\n",
    "filenamelist_gamma = sorted(glob(expandvars(\n",
    "    \"$CTA_DATA/Prod3b/Paranal/*simtel.gz\")))\n",
    "filenamelist_proton = sorted(glob(expandvars(\n",
    "    \"$CTA_DATA/Prod3b/Paranal/proton/*simtel.gz\")))[50:]\n",
    "    \n",
    "energy_mc = []\n",
    "gammaness = []\n",
    "true_class = []\n",
    "\n",
    "def event_loop(input_data, n_files=1, max_events=10):\n",
    "    \n",
    "    print(\"last function call:\", datetime.datetime.now())\n",
    "    \n",
    "    # close open files and reset some arrays in case we run `interact`\n",
    "    # in the next cell several times \n",
    "    try:\n",
    "        pyhessio.close_file()\n",
    "    except:\n",
    "        pass\n",
    "\n",
    "    global energy_mc \n",
    "    global gammaness \n",
    "    global true_class \n",
    "    energy_mc, gammaness, true_class = [], [], []\n",
    "\n",
    "    allowed_tels = prod3b_tel_ids(\"L+N+D\")\n",
    "    for filenamelist in [filenamelist_gamma, filenamelist_proton]:\n",
    "      channel = \"g\" if \"gamma\" in \"\".join(filenamelist) else \"p\"\n",
    "      for i, filename in enumerate(filenamelist[:n_files]):\n",
    "\n",
    "        print(f\"{i} -- filename = {filename}\")\n",
    "\n",
    "        source = hessio_event_source(filename,\n",
    "                                     allowed_tels=allowed_tels,\n",
    "                                     max_events=max_events)\n",
    "\n",
    "        # loop that cleans and parametrises the images and performs the reconstruction\n",
    "        for (event, hillas_dict, n_tels,\n",
    "             tot_signal, max_signals, pos_fit, dir_fit, h_max,\n",
    "             err_est_pos, err_est_dir) in preper.prepare_event(source):\n",
    "\n",
    "            # now prepare the features for the classifier\n",
    "            cls_features_evt = {}\n",
    "            for tel_id in hillas_dict.keys():\n",
    "                Imagecutflow.count(\"pre-features\")\n",
    "\n",
    "                tel_pos = np.array(event.inst.tel_pos[tel_id][:2]) * u.m\n",
    "\n",
    "                moments = hillas_dict[tel_id]\n",
    "\n",
    "                impact_dist = linalg.length(tel_pos - pos_fit)\n",
    "\n",
    "                cls_features_tel = ClassifierFeatures(\n",
    "                    impact_dist=impact_dist / u.m,\n",
    "                    sum_signal_evt=tot_signal,\n",
    "                    max_signal_cam=max_signals[tel_id],\n",
    "                    sum_signal_cam=moments.size,\n",
    "                    N_LST=n_tels[\"LST\"],\n",
    "                    N_MST=n_tels[\"MST\"],\n",
    "                    N_SST=n_tels[\"SST\"],\n",
    "                    width=moments.width / u.m,\n",
    "                    length=moments.length / u.m,\n",
    "                    skewness=moments.skewness,\n",
    "                    kurtosis=moments.kurtosis,\n",
    "                    h_max=h_max / u.m,\n",
    "                    err_est_pos=err_est_pos / u.m,\n",
    "                    err_est_dir=err_est_dir / u.deg\n",
    "                )\n",
    "\n",
    "                # any nans reconstructed?\n",
    "                if Imagecutflow.cut(\"features nan\", cls_features_tel):\n",
    "                    continue\n",
    "\n",
    "                cam_id = event.inst.subarray.tel[tel_id].camera.cam_id\n",
    "\n",
    "                try:\n",
    "                    cls_features_evt[cam_id] += [cls_features_tel]\n",
    "                except KeyError:\n",
    "                    cls_features_evt[cam_id] = [cls_features_tel]\n",
    "\n",
    "            if not cls_features_evt:\n",
    "                continue\n",
    "\n",
    "            predict_proba = classifier.predict_proba_by_event([cls_features_evt])\n",
    "            gammaness.append(predict_proba[0, 0])\n",
    "            true_class.append(channel)\n",
    "            energy_mc.append(event.mc.energy / energy_unit)\n",
    "\n",
    "    gammaness = np.array(gammaness)\n",
    "    true_class = np.array(true_class)\n",
    "    energy_mc = np.array(energy_mc) * energy_unit\n",
    "\n",
    "    print(\"...done\")\n",
    "\n",
    "\n",
    "_ = interact(\n",
    "    event_loop,\n",
    "    input_data=expandvars(\"$CTA_DATA/Prod3b/Paranal/*simtel.gz\"),\n",
    "    n_files=(1, 10, 1),\n",
    "    max_events=(0, 1000, 50)\n",
    ")"
   ]
  },
  {
   "cell_type": "markdown",
   "metadata": {},
   "source": [
    "### Evaluation\n",
    "Define and show a few plots to assess the performance of the energy estimation:"
   ]
  },
  {
   "cell_type": "code",
   "execution_count": 19,
   "metadata": {
    "collapsed": false,
    "deletable": true,
    "editable": true
   },
   "outputs": [
    {
     "name": "stdout",
     "output_type": "stream",
     "text": [
      "area under curve: 0.970523796979\n"
     ]
    },
    {
     "data": {
      "image/png": "[encoded data removed]",
      "text/plain": [
       "<matplotlib.figure.Figure at 0x7f0546bb7278>"
      ]
     },
     "metadata": {},
     "output_type": "display_data"
    }
   ],
   "source": [
    "# plot area under curve for a few cross-validations\n",
    "from sklearn.metrics import roc_curve, auc\n",
    "\n",
    "fpr, tpr, _ = roc_curve(true_class == \"g\", gammaness)\n",
    "roc_auc = auc(fpr, tpr)\n",
    "print(\"area under curve:\", roc_auc)\n",
    "\n",
    "lw = 2\n",
    "plt.figure()\n",
    "plt.plot(fpr, tpr, lw=lw, label='ROC curve (area = %0.2f)' % roc_auc)\n",
    "# plot a diagonal line that represents purely random choices\n",
    "plt.plot([0, 1], [0, 1], color='navy', lw=lw, linestyle='--')\n",
    "plt.xlim([0.0, 1.0])\n",
    "plt.ylim([0.0, 1.05])\n",
    "plt.xlabel('False Positive Rate')\n",
    "plt.ylabel('True Positive Rate')\n",
    "plt.legend()\n",
    "plt.title('Receiver operating characteristic')\n",
    "plt.show()"
   ]
  }
 ],
 "metadata": {
  "kernelspec": {
   "display_name": "Python 3",
   "language": "python",
   "name": "python3"
  },
  "language_info": {
   "codemirror_mode": {
    "name": "ipython",
    "version": 3
   },
   "file_extension": ".py",
   "mimetype": "text/x-python",
   "name": "python",
   "nbconvert_exporter": "python",
   "pygments_lexer": "ipython3",
   "version": "3.6.1"
  }
 },
 "nbformat": 4,
 "nbformat_minor": 2
}
