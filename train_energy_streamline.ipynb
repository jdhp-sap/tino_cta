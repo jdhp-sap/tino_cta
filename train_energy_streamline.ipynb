{
 "cells": [
  {
   "cell_type": "code",
   "execution_count": null,
   "metadata": {
    "collapsed": false,
    "deletable": true,
    "editable": true
   },
   "outputs": [],
   "source": [
    "from os.path import expandvars\n",
    "\n",
    "from collections import namedtuple\n",
    "from glob import glob\n",
    "\n",
    "# PyTables\n",
    "import tables as tb\n",
    "\n",
    "from ctapipe.io.hessio import hessio_event_source\n",
    "\n",
    "from ctapipe.utils import linalg\n",
    "from ctapipe.utils.CutFlow import CutFlow\n",
    "\n",
    "from ctapipe.reco.energy_regressor import *\n",
    "\n",
    "from ctapipe.reco.HillasReconstructor import \\\n",
    "    HillasReconstructor, TooFewTelescopes\n",
    "\n",
    "from modules.prepare_event import EventPreparer\n",
    "from modules.ImageCleaning import ImageCleaner\n",
    "\n",
    "from helper_functions import *\n",
    "\n",
    "%matplotlib inline\n",
    "\n",
    "# your favourite units here\n",
    "energy_unit = u.TeV\n",
    "angle_unit = u.deg\n",
    "dist_unit = u.m\n"
   ]
  },
  {
   "cell_type": "code",
   "execution_count": null,
   "metadata": {
    "collapsed": false,
    "deletable": true,
    "editable": true
   },
   "outputs": [],
   "source": [
    "# for which cam_id to generate a model\n",
    "cam_id_list = [\n",
    "        # 'GATE',\n",
    "        # 'HESSII',\n",
    "        'NectarCam',\n",
    "        'LSTCam',\n",
    "        'DigiCam',\n",
    "        # 'SST-1m',\n",
    "        # 'FlashCam',\n",
    "        # 'ASTRICam',\n",
    "        # 'SCTCam',\n",
    "        ]\n",
    "\n",
    "\n",
    "EnergyFeatures = namedtuple(\n",
    "    \"EnergyFeatures\", (\n",
    "        \"impact_dist\",\n",
    "        \"sum_signal_evt\",\n",
    "        \"max_signal_cam\",\n",
    "        \"sum_signal_cam\",\n",
    "        \"N_LST\",\n",
    "        \"N_MST\",\n",
    "        \"N_SST\",\n",
    "        \"width\",\n",
    "        \"length\",\n",
    "        \"skewness\",\n",
    "        \"kurtosis\",\n",
    "        \"h_max\",\n",
    "        \"err_est_pos\",\n",
    "        \"err_est_dir\"\n",
    "    ))\n",
    "\n",
    "\n",
    "parser = make_argparser()\n",
    "parser.add_argument('-o', '--infile', type=str, default=\"data/features_wave_gamma.h5\")\n",
    "args = parser.parse_args()\n",
    "\n",
    "feature_file = tb.open_file(args.infile, mode=\"r\")\n",
    "\n",
    "features = {\"LSTCam\": [[row[name] for name in EnergyFeatures._fields] for row in\n",
    "                       feature_file.root.feature_events_lst],\n",
    "            \"DigiCam\": [[row[name] for name in EnergyFeatures._fields] for row in\n",
    "                        feature_file.root.feature_events_dig],\n",
    "            \"NectarCam\": [[row[name] for name in EnergyFeatures._fields] for row in\n",
    "                          feature_file.root.feature_events_nec]}\n",
    "\n",
    "energies = {\"LSTCam\": np.array([row[\"MC_Energy\"] for row in\n",
    "                                feature_file.root.feature_events_lst]) * energy_unit,\n",
    "            \"DigiCam\": np.array([row[\"MC_Energy\"] for row in\n",
    "                                 feature_file.root.feature_events_dig]) * energy_unit,\n",
    "            \"NectarCam\": np.array([row[\"MC_Energy\"] for row in\n",
    "                                   feature_file.root.feature_events_nec]) * energy_unit}"
   ]
  },
  {
   "cell_type": "code",
   "execution_count": null,
   "metadata": {
    "collapsed": true
   },
   "outputs": [],
   "source": [
    "# use default random forest classifier\n",
    "clf_kwargs = {'n_estimators': 40, 'max_depth': None,\n",
    "              'min_samples_split': 2, 'random_state': 0,\n",
    "              'cam_id_list': cam_id_list}"
   ]
  },
  {
   "cell_type": "code",
   "execution_count": null,
   "metadata": {
    "collapsed": true
   },
   "outputs": [],
   "source": [
    "reg = EnergyRegressor(**reg_kwargs)\n",
    "reg.fit(features, energies)"
   ]
  },
  {
   "cell_type": "code",
   "execution_count": null,
   "metadata": {
    "collapsed": false,
    "deletable": true,
    "editable": true
   },
   "outputs": [],
   "source": [
    "fig = reg.show_importances(EnergyFeatures._fields)\n",
    "fig.set_size_inches(15, 10)\n",
    "for ax in fig.axes:\n",
    "    plt.sca(ax)\n",
    "    plt.xticks(rotation=45)\n",
    "    for label in ax.get_xmajorticklabels():\n",
    "        label.set_horizontalalignment(\"right\")\n",
    "plt.subplots_adjust(top=0.9, bottom=0.135, left=0.034, right=0.98,\n",
    "                    hspace=0.478, wspace=0.08)\n",
    "plt.show()"
   ]
  },
  {
   "cell_type": "code",
   "execution_count": null,
   "metadata": {
    "collapsed": true,
    "deletable": true,
    "editable": true
   },
   "outputs": [],
   "source": [
    "# keeping track of events and where they were rejected\n",
    "Eventcutflow = CutFlow(\"EventCutFlow\")\n",
    "Imagecutflow = CutFlow(\"ImageCutFlow\")\n",
    "\n",
    "# takes care of image cleaning\n",
    "cleaner = ImageCleaner(mode=args.mode, cutflow=Imagecutflow,\n",
    "                       wavelet_options=args.raw,\n",
    "                       skip_edge_events=False, island_cleaning=True)\n",
    "\n",
    "# the class that does the shower reconstruction\n",
    "shower_reco = HillasReconstructor()\n",
    "\n",
    "preper = EventPreparer(\n",
    "    cleaner=cleaner, shower_reco=shower_reco,\n",
    "    event_cutflow=Eventcutflow, image_cutflow=Imagecutflow,\n",
    "    # event/image cuts:\n",
    "    allowed_cam_ids=[],  # [] or None means: all\n",
    "    min_ntel=2,\n",
    "    min_charge=args.min_charge, min_pixel=3)\n",
    "Imagecutflow.add_cut(\"features nan\", lambda x: np.isnan(x).any())"
   ]
  },
  {
   "cell_type": "code",
   "execution_count": null,
   "metadata": {
    "collapsed": false,
    "deletable": true,
    "editable": true
   },
   "outputs": [],
   "source": [
    "filenamelist_gamma = sorted(glob(expandvars(\"$CTA_DATA/Prod3b/Paranal/*simtel.gz\")))\n",
    "\n",
    "energy_mc = []\n",
    "energy_rec = []\n",
    "\n",
    "allowed_tels = prod3b_tel_ids(\"L+N+D\")\n",
    "for i, filename in enumerate(filenamelist_gamma[:]):\n",
    "\n",
    "    print(f\"{i} -- filename = {filename}\")\n",
    "\n",
    "    source = hessio_event_source(filename,\n",
    "                                 allowed_tels=allowed_tels,\n",
    "                                 max_events=args.max_events)\n",
    "\n",
    "    # loop that cleans and parametrises the images and performs the reconstruction\n",
    "    for (event, hillas_dict, n_tels,\n",
    "         tot_signal, max_signals, pos_fit, dir_fit, h_max,\n",
    "         err_est_pos, err_est_dir) in preper.prepare_event(source):\n",
    "        \n",
    "        # now prepare the features for the classifier\n",
    "        cls_features_evt = {}\n",
    "        reg_features_evt = {}\n",
    "        for tel_id in hillas_dict.keys():\n",
    "            Imagecutflow.count(\"pre-features\")\n",
    "\n",
    "            tel_pos = np.array(event.inst.tel_pos[tel_id][:2]) * u.m\n",
    "\n",
    "            moments = hillas_dict[tel_id]\n",
    "\n",
    "            impact_dist = linalg.length(tel_pos - pos_fit)\n",
    "\n",
    "            reg_features_tel = EnergyFeatures(\n",
    "                impact_dist=impact_dist / u.m,\n",
    "                sum_signal_evt=tot_signal,\n",
    "                max_signal_cam=max_signals[tel_id],\n",
    "                sum_signal_cam=moments.size,\n",
    "                N_LST=n_tels[\"LST\"],\n",
    "                N_MST=n_tels[\"MST\"],\n",
    "                N_SST=n_tels[\"SST\"],\n",
    "                width=moments.width / u.m,\n",
    "                length=moments.length / u.m,\n",
    "                skewness=moments.skewness,\n",
    "                kurtosis=moments.kurtosis,\n",
    "                h_max=h_max / u.m,\n",
    "                err_est_pos=err_est_pos / u.m,\n",
    "                err_est_dir=err_est_dir / u.deg\n",
    "            )\n",
    "\n",
    "            if np.isnan(reg_features_tel).any():\n",
    "                continue\n",
    "\n",
    "            # any nans reconstructed?\n",
    "            Imagecutflow.count(\"features nan\")\n",
    "\n",
    "            cam_id = event.inst.subarray.tel[tel_id].camera.cam_id\n",
    "\n",
    "            try:\n",
    "                reg_features_evt[cam_id] += [reg_features_tel]\n",
    "            except KeyError:\n",
    "                reg_features_evt[cam_id] = [reg_features_tel]\n",
    "\n",
    "        if not reg_features_evt:\n",
    "            continue\n",
    "\n",
    "        predict_energ = reg.predict_by_event([reg_features_evt])[\"mean\"][0]\n",
    "        energy_rec.append(predict_energ / energy_unit)\n",
    "        energy_mc.append(event.mc.energy / energy_unit)\n",
    "\n",
    "\n",
    "print(\"...done\")\n",
    "\n",
    "energy_mc = np.array(energy_mc)\n",
    "energy_rec = np.array(energy_rec)"
   ]
  },
  {
   "cell_type": "code",
   "execution_count": null,
   "metadata": {
    "collapsed": false,
    "deletable": true,
    "editable": true
   },
   "outputs": [],
   "source": [
    "import pyhessio\n",
    "pyhessio.close_file()"
   ]
  },
  {
   "cell_type": "code",
   "execution_count": null,
   "metadata": {
    "collapsed": true,
    "deletable": true,
    "editable": true
   },
   "outputs": [],
   "source": [
    "e_bin_edges = np.logspace(-2, np.log10(330), 20) * u.TeV\n",
    "e_bin_centres = (e_bin_edges[:-1] + e_bin_edges[1:]) / 2\n",
    "e_bin_fine_edges = np.logspace(-2, 2.5, 100) * u.TeV\n",
    "e_bin_fine_centres = (e_bin_fine_edges[:-1] + e_bin_fine_edges[1:]) / 2\n"
   ]
  },
  {
   "cell_type": "code",
   "execution_count": null,
   "metadata": {
    "collapsed": true,
    "deletable": true,
    "editable": true
   },
   "outputs": [],
   "source": [
    "def percentiles(values, bin_values, bin_edges, percentile):\n",
    "    percentiles_binned = \\\n",
    "        np.squeeze(np.full((len(bin_edges) - 1, len(values.shape)), np.inf))\n",
    "    for i, (bin_l, bin_h) in enumerate(zip(bin_edges[:-1], bin_edges[1:])):\n",
    "        try:\n",
    "            percentiles_binned[i] = \\\n",
    "                np.percentile(values[(bin_values > bin_l) &\n",
    "                                     (bin_values < bin_h)], percentile)\n",
    "        except IndexError:\n",
    "            pass\n",
    "    return percentiles_binned.T\n"
   ]
  },
  {
   "cell_type": "code",
   "execution_count": null,
   "metadata": {
    "collapsed": false,
    "deletable": true,
    "editable": true
   },
   "outputs": [],
   "source": [
    "# (reco Energy - MC Energy) vs. reco Energy 2D histograms\n",
    "fig, ax = plt.subplots(1, 1)\n",
    "counts, _, _ = np.histogram2d(\n",
    "            energy_rec, (energy_rec - energy_mc) / energy_rec,\n",
    "            bins=(e_bin_fine_edges, np.linspace(-2, 1.5, 50)))\n",
    "ax.pcolormesh(e_bin_fine_edges.value, np.linspace(-2, 1.5, 50),\n",
    "              np.sqrt(counts.T))\n",
    "plt.plot(e_bin_fine_edges.value[[0, -1]], [0, 0],\n",
    "         color=\"darkgreen\")\n",
    "ax.set_xlabel(r\"$E_\\mathrm{reco}$ / TeV\")\n",
    "ax.set_ylabel(r\"$(E_\\mathrm{reco} - E_\\mathrm{MC}) / E_\\mathrm{reco}$\")\n",
    "ax.set_xscale(\"log\")\n",
    "plt.grid()\n",
    "\n",
    "plt.subplots_adjust(left=.1, wspace=.1)\n",
    "plt.show()"
   ]
  },
  {
   "cell_type": "code",
   "execution_count": null,
   "metadata": {
    "collapsed": false,
    "deletable": true,
    "editable": true
   },
   "outputs": [],
   "source": [
    "rel_DeltaE_w = np.abs(energy_rec - energy_mc) / energy_rec\n",
    "DeltaE68_w_ebinned = percentiles(rel_DeltaE_w, energy_rec,\n",
    "                                 e_bin_edges.value, 68)\n",
    "plt.figure()\n",
    "plt.plot(e_bin_centres.value, DeltaE68_w_ebinned, label=\"gamma -- wave\",\n",
    "         marker='^', color=\"darkred\")\n",
    "plt.title(\"Energy Resolution\")\n",
    "plt.xlabel(r\"$E_\\mathrm{reco}$ / TeV\")\n",
    "plt.ylabel(r\"$(|E_\\mathrm{reco} - E_\\mathrm{MC}|)_{68}/E_\\mathrm{reco}$\")\n",
    "plt.gca().set_xscale(\"log\")\n",
    "plt.grid()\n",
    "plt.legend()\n",
    "plt.show()"
   ]
  },
  {
   "cell_type": "code",
   "execution_count": null,
   "metadata": {
    "collapsed": false,
    "deletable": true,
    "editable": true
   },
   "outputs": [],
   "source": [
    "# (reco Energy - MC Energy) vs. MC Energy 2D histograms\n",
    "fig, ax = plt.subplots(1, 1)\n",
    "counts, _, _ = np.histogram2d(\n",
    "            energy_mc,\n",
    "            (energy_rec - energy_mc) / energy_mc,\n",
    "            bins=(e_bin_fine_edges, np.linspace(-1, 2, 50)))\n",
    "ax.pcolormesh(e_bin_fine_edges.value, np.linspace(-1, 2, 50),\n",
    "              np.sqrt(counts.T))\n",
    "plt.plot(e_bin_fine_edges.value[[0, -1]], [0, 0],\n",
    "         color=\"darkgreen\")\n",
    "ax.set_xlabel(r\"$E_\\mathrm{MC}$ / TeV\")\n",
    "ax.set_ylabel(r\"$(E_\\mathrm{reco} - E_\\mathrm{MC}) / E_\\mathrm{MC}$\")\n",
    "ax.set_xscale(\"log\")\n",
    "plt.grid()\n",
    "\n",
    "plt.subplots_adjust(left=.1, wspace=.1)\n",
    "plt.show()"
   ]
  },
  {
   "cell_type": "code",
   "execution_count": null,
   "metadata": {
    "collapsed": false,
    "deletable": true,
    "editable": true
   },
   "outputs": [],
   "source": [
    "rel_DeltaE_w = np.abs(energy_rec - energy_mc) / energy_mc\n",
    "DeltaE68_w_ebinned = percentiles(rel_DeltaE_w, energy_mc,\n",
    "                                 e_bin_edges.value, 68)\n",
    "\n",
    "plt.figure()\n",
    "plt.plot(e_bin_centres.value, DeltaE68_w_ebinned, label=\"gamma -- wave\",\n",
    "         marker='^', color=\"darkred\")\n",
    "plt.title(\"Energy Resolution\")\n",
    "plt.xlabel(r\"$E_\\mathrm{mc}$ / TeV\")\n",
    "plt.ylabel(r\"$(|E_\\mathrm{reco} - E_\\mathrm{MC}|)_{68}/E_\\mathrm{mc}$\")\n",
    "plt.gca().set_xscale(\"log\")\n",
    "plt.grid()\n",
    "plt.legend()\n",
    "plt.show()"
   ]
  }
 ],
 "metadata": {
  "kernelspec": {
   "display_name": "Python 3",
   "language": "python",
   "name": "python3"
  },
  "language_info": {
   "codemirror_mode": {
    "name": "ipython",
    "version": 3
   },
   "file_extension": ".py",
   "mimetype": "text/x-python",
   "name": "python",
   "nbconvert_exporter": "python",
   "pygments_lexer": "ipython3",
   "version": "3.6.1"
  }
 },
 "nbformat": 4,
 "nbformat_minor": 2
}
